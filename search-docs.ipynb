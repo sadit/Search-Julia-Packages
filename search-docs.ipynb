{
 "cells": [
  {
   "cell_type": "code",
   "execution_count": 1,
   "id": "adb3bbb8-1657-483a-b0ff-3dda050f419f",
   "metadata": {},
   "outputs": [
    {
     "name": "stderr",
     "output_type": "stream",
     "text": [
      "\u001b[32m\u001b[1m  Activating\u001b[22m\u001b[39m project at `~/Tools/Search-Julia-Packages`\n"
     ]
    }
   ],
   "source": [
    "using Pkg\n",
    "Pkg.activate(\".\")\n",
    "\n",
    "using SimilaritySearch, TextSearch, JSON, StatsBase, Statistics\n",
    "using Downloads: download"
   ]
  },
  {
   "cell_type": "code",
   "execution_count": null,
   "id": "2f830eed-b53f-4e0a-88fa-33b835bfd1a3",
   "metadata": {},
   "outputs": [],
   "source": []
  },
  {
   "cell_type": "code",
   "execution_count": 2,
   "id": "2f6205f1-376f-4c5c-b2a1-23ccb13670cc",
   "metadata": {},
   "outputs": [
    {
     "data": {
      "text/plain": [
       "search_doc"
      ]
     },
     "execution_count": 2,
     "metadata": {},
     "output_type": "execute_result"
    }
   ],
   "source": [
    "# include(\"src/create-indexes.jl\")\n",
    "include(\"src/search-documentation.jl\")"
   ]
  },
  {
   "cell_type": "code",
   "execution_count": 6,
   "id": "35d2020d-1a2b-421d-9705-d52cdfd63c82",
   "metadata": {},
   "outputs": [
    {
     "data": {
      "text/plain": [
       "(:db, :docs, :names)"
      ]
     },
     "execution_count": 6,
     "metadata": {},
     "output_type": "execute_result"
    }
   ],
   "source": [
    "db = get_doc(SimilaritySearch)\n",
    "X = create_index(db)\n",
    "fieldnames(typeof(X))"
   ]
  },
  {
   "cell_type": "code",
   "execution_count": 14,
   "id": "9c9e5554-1458-4dbe-8c2a-d4edf285eb56",
   "metadata": {},
   "outputs": [
    {
     "data": {
      "text/markdown": [
       "## search – category: typeof(search) – score: 37.35f0\n"
      ],
      "text/plain": [
       "\u001b[1m  search – category: typeof(search) – score: 37.35f0\u001b[22m\n",
       "\u001b[1m  ====================================================\u001b[22m"
      ]
     },
     "metadata": {},
     "output_type": "display_data"
    },
    {
     "data": {
      "text/latex": [
       "\\begin{verbatim}\n",
       "search(seq::ExhaustiveSearch, q, res::KnnResult)\n",
       "\\end{verbatim}\n",
       "Solves the query evaluating all items in the given query.\n",
       "\n",
       "\\begin{verbatim}\n",
       "search(ex::ParallelExhaustiveSearch, q, res::KnnResult; minbatch=0, pools=nothing)\n",
       "\\end{verbatim}\n",
       "Solves the query evaluating all items in the gi\n",
       "\n"
      ],
      "text/markdown": [
       "```\n",
       "search(seq::ExhaustiveSearch, q, res::KnnResult)\n",
       "```\n",
       "\n",
       "Solves the query evaluating all items in the given query.\n",
       "\n",
       "```\n",
       "search(ex::ParallelExhaustiveSearch, q, res::KnnResult; minbatch=0, pools=nothing)\n",
       "```\n",
       "\n",
       "Solves the query evaluating all items in the gi\n"
      ],
      "text/plain": [
       "\u001b[36m  search(seq::ExhaustiveSearch, q, res::KnnResult)\u001b[39m\n",
       "\n",
       "  Solves the query evaluating all items in the given query.\n",
       "\n",
       "\u001b[36m  search(ex::ParallelExhaustiveSearch, q, res::KnnResult; minbatch=0, pools=nothing)\u001b[39m\n",
       "\n",
       "  Solves the query evaluating all items in the gi"
      ]
     },
     "metadata": {},
     "output_type": "display_data"
    },
    {
     "name": "stdout",
     "output_type": "stream",
     "text": [
      "\n",
      "\n",
      "\n"
     ]
    },
    {
     "data": {
      "text/markdown": [
       "## searchbatch – category: typeof(searchbatch) – score: 32.35f0\n"
      ],
      "text/plain": [
       "\u001b[1m  searchbatch – category: typeof(searchbatch) – score: 32.35f0\u001b[22m\n",
       "\u001b[1m  ==============================================================\u001b[22m"
      ]
     },
     "metadata": {},
     "output_type": "display_data"
    },
    {
     "data": {
      "text/latex": [
       "\\begin{verbatim}\n",
       "searchbatch(index, Q, k::Integer; minbatch=0, pools=GlobalKnnResult) -> indices, distances\n",
       "\\end{verbatim}\n",
       "Searches a batch of queries in the given index (searches for k neighbors).\n",
       "\n",
       "\\section{Arguments}\n",
       "\\begin{itemize}\n",
       "\\item \\texttt{index}: The search structure\n",
       "\n",
       "\n",
       "\\item \\texttt{Q}: The set of queries\n",
       "\n",
       "\n",
       "\\item `\n",
       "\n",
       "\\end{itemize}\n"
      ],
      "text/markdown": [
       "```\n",
       "searchbatch(index, Q, k::Integer; minbatch=0, pools=GlobalKnnResult) -> indices, distances\n",
       "```\n",
       "\n",
       "Searches a batch of queries in the given index (searches for k neighbors).\n",
       "\n",
       "# Arguments\n",
       "\n",
       "  * `index`: The search structure\n",
       "  * `Q`: The set of queries\n",
       "  * `\n"
      ],
      "text/plain": [
       "\u001b[36m  searchbatch(index, Q, k::Integer; minbatch=0, pools=GlobalKnnResult) -> indices, distances\u001b[39m\n",
       "\n",
       "  Searches a batch of queries in the given index (searches for k neighbors).\n",
       "\n",
       "\u001b[1m  Arguments\u001b[22m\n",
       "\u001b[1m  ≡≡≡≡≡≡≡≡≡≡≡\u001b[22m\n",
       "\n",
       "    •  \u001b[36mindex\u001b[39m: The search structure\n",
       "\n",
       "    •  \u001b[36mQ\u001b[39m: The set of queries\n",
       "\n",
       "    •  `"
      ]
     },
     "metadata": {},
     "output_type": "display_data"
    },
    {
     "name": "stdout",
     "output_type": "stream",
     "text": [
      "\n",
      "\n",
      "\n"
     ]
    },
    {
     "data": {
      "text/markdown": [
       "## SimilaritySearch – category: Module – score: 27.55f0\n"
      ],
      "text/plain": [
       "\u001b[1m  SimilaritySearch – category: Module – score: 27.55f0\u001b[22m\n",
       "\u001b[1m  ======================================================\u001b[22m"
      ]
     },
     "metadata": {},
     "output_type": "display_data"
    },
    {
     "data": {
      "text/latex": [
       "No docstring found for module \\texttt{SimilaritySearch}.\n",
       "\n",
       "\\section{Exported names}\n",
       "\\texttt{AbstractDatabase}, \\texttt{AbstractSearchIndex}, \\texttt{AngleDistance}, \\texttt{BeamSearch}, \\texttt{BeamSearchSpace}, \\texttt{BinaryHammingDistance}, \\texttt{Callback}, \\texttt{CommonPrefixDissimilarity}, \\texttt{CosineDistance}, `CosineDis\n",
       "\n"
      ],
      "text/markdown": [
       "No docstring found for module `SimilaritySearch`.\n",
       "\n",
       "# Exported names\n",
       "\n",
       "`AbstractDatabase`, `AbstractSearchIndex`, `AngleDistance`, `BeamSearch`, `BeamSearchSpace`, `BinaryHammingDistance`, `Callback`, `CommonPrefixDissimilarity`, `CosineDistance`, `CosineDis\n"
      ],
      "text/plain": [
       "  No docstring found for module \u001b[36mSimilaritySearch\u001b[39m.\n",
       "\n",
       "\u001b[1m  Exported names\u001b[22m\n",
       "\u001b[1m  ≡≡≡≡≡≡≡≡≡≡≡≡≡≡≡≡\u001b[22m\n",
       "\n",
       "  \u001b[36mAbstractDatabase\u001b[39m, \u001b[36mAbstractSearchIndex\u001b[39m, \u001b[36mAngleDistance\u001b[39m, \u001b[36mBeamSearch\u001b[39m,\n",
       "  \u001b[36mBeamSearchSpace\u001b[39m, \u001b[36mBinaryHammingDistance\u001b[39m, \u001b[36mCallback\u001b[39m, \u001b[36mCommonPrefixDissimilarity\u001b[39m,\n",
       "  \u001b[36mCosineDistance\u001b[39m, `CosineDis"
      ]
     },
     "metadata": {},
     "output_type": "display_data"
    },
    {
     "name": "stdout",
     "output_type": "stream",
     "text": [
      "\n",
      "\n",
      "\n"
     ]
    }
   ],
   "source": [
    "search_doc(X, \"search batch\"; k=3, snippet=256)"
   ]
  },
  {
   "cell_type": "code",
   "execution_count": 16,
   "id": "cc9d5d08-0942-45c6-862e-e7de60ab7072",
   "metadata": {},
   "outputs": [
    {
     "data": {
      "text/markdown": [
       "## append_items! – category: typeof(append_items!) – score: 67.93f0\n"
      ],
      "text/plain": [
       "\u001b[1m  append_items! – category: typeof(append_items!) – score: 67.93f0\u001b[22m\n",
       "\u001b[1m  ==================================================================\u001b[22m"
      ]
     },
     "metadata": {},
     "output_type": "display_data"
    },
    {
     "data": {
      "text/latex": [
       "\\begin{verbatim}\n",
       "append_items!(\n",
       "    index::SearchGraph,\n",
       "    db;\n",
       "    neighborhood=Neighborhood(),\n",
       "    parallel_block=get_parallel_block(),\n",
       "    parallel_minimum_first_block=parallel_block,\n",
       "    callbacks=SearchGraphCallbacks(verbose=index.verbose),\n",
       "    pools=getpools(index)\n",
       ")\n",
       "\\end{verbatim}\n",
       "Appends all items in db to the index. It can be made in parallel or sequentially.\n",
       "\n",
       "Arguments:\n",
       "\n",
       "\\begin{itemize}\n",
       "\\item \\texttt{index}: the search graph index\n",
       "\n",
       "\n",
       "\\item \\texttt{neighborhood}: A \\href{@ref}{\\texttt{Neighborhood}} object that specifies the kind of neighborhood that will be computed.\n",
       "\n",
       "\\end{itemize}\n"
      ],
      "text/markdown": [
       "```\n",
       "append_items!(\n",
       "    index::SearchGraph,\n",
       "    db;\n",
       "    neighborhood=Neighborhood(),\n",
       "    parallel_block=get_parallel_block(),\n",
       "    parallel_minimum_first_block=parallel_block,\n",
       "    callbacks=SearchGraphCallbacks(verbose=index.verbose),\n",
       "    pools=getpools(index)\n",
       ")\n",
       "```\n",
       "\n",
       "Appends all items in db to the index. It can be made in parallel or sequentially.\n",
       "\n",
       "Arguments:\n",
       "\n",
       "  * `index`: the search graph index\n",
       "  * `neighborhood`: A [`Neighborhood`](@ref) object that specifies the kind of neighborhood that will be computed.\n"
      ],
      "text/plain": [
       "\u001b[36m  append_items!(\u001b[39m\n",
       "\u001b[36m      index::SearchGraph,\u001b[39m\n",
       "\u001b[36m      db;\u001b[39m\n",
       "\u001b[36m      neighborhood=Neighborhood(),\u001b[39m\n",
       "\u001b[36m      parallel_block=get_parallel_block(),\u001b[39m\n",
       "\u001b[36m      parallel_minimum_first_block=parallel_block,\u001b[39m\n",
       "\u001b[36m      callbacks=SearchGraphCallbacks(verbose=index.verbose),\u001b[39m\n",
       "\u001b[36m      pools=getpools(index)\u001b[39m\n",
       "\u001b[36m  )\u001b[39m\n",
       "\n",
       "  Appends all items in db to the index. It can be made in parallel or\n",
       "  sequentially.\n",
       "\n",
       "  Arguments:\n",
       "\n",
       "    •  \u001b[36mindex\u001b[39m: the search graph index\n",
       "\n",
       "    •  \u001b[36mneighborhood\u001b[39m: A \u001b[36mNeighborhood\u001b[39m object that specifies the kind of\n",
       "       neighborhood that will be computed."
      ]
     },
     "metadata": {},
     "output_type": "display_data"
    },
    {
     "name": "stdout",
     "output_type": "stream",
     "text": [
      "\n",
      "\n",
      "\n"
     ]
    },
    {
     "data": {
      "text/markdown": [
       "## push_item! – category: typeof(push_item!) – score: 64.1f0\n"
      ],
      "text/plain": [
       "\u001b[1m  push_item! – category: typeof(push_item!) – score: 64.1f0\u001b[22m\n",
       "\u001b[1m  ===========================================================\u001b[22m"
      ]
     },
     "metadata": {},
     "output_type": "display_data"
    },
    {
     "data": {
      "text/latex": [
       "\\begin{verbatim}\n",
       "push_item!(res::KnnResult, p::IdWeight)\n",
       "push_item!(res::KnnResult, id::Integer, dist::Real)\n",
       "\\end{verbatim}\n",
       "Appends an item into the result set\n",
       "\n",
       "\\begin{verbatim}\n",
       "push_item!(\n",
       "    index::SearchGraph,\n",
       "    item;\n",
       "    neighborhood=Neighborhood(),\n",
       "    push_item=true,\n",
       "    callbacks=SearchGraphCallbacks(verbose=index.verbose),\n",
       "    pools=getpools(index)\n",
       ")\n",
       "\\end{verbatim}\n",
       "Appends an object into the index. It accepts the same arguments that \\texttt{push!} but assuming some default values.\n",
       "\n",
       "Arguments:\n",
       "\n",
       "\\begin{itemize}\n",
       "\\item \\texttt{index}: The search graph index where the insertion\n",
       "\n",
       "\\end{itemize}\n"
      ],
      "text/markdown": [
       "```\n",
       "push_item!(res::KnnResult, p::IdWeight)\n",
       "push_item!(res::KnnResult, id::Integer, dist::Real)\n",
       "```\n",
       "\n",
       "Appends an item into the result set\n",
       "\n",
       "```\n",
       "push_item!(\n",
       "    index::SearchGraph,\n",
       "    item;\n",
       "    neighborhood=Neighborhood(),\n",
       "    push_item=true,\n",
       "    callbacks=SearchGraphCallbacks(verbose=index.verbose),\n",
       "    pools=getpools(index)\n",
       ")\n",
       "```\n",
       "\n",
       "Appends an object into the index. It accepts the same arguments that `push!` but assuming some default values.\n",
       "\n",
       "Arguments:\n",
       "\n",
       "  * `index`: The search graph index where the insertion\n"
      ],
      "text/plain": [
       "\u001b[36m  push_item!(res::KnnResult, p::IdWeight)\u001b[39m\n",
       "\u001b[36m  push_item!(res::KnnResult, id::Integer, dist::Real)\u001b[39m\n",
       "\n",
       "  Appends an item into the result set\n",
       "\n",
       "\u001b[36m  push_item!(\u001b[39m\n",
       "\u001b[36m      index::SearchGraph,\u001b[39m\n",
       "\u001b[36m      item;\u001b[39m\n",
       "\u001b[36m      neighborhood=Neighborhood(),\u001b[39m\n",
       "\u001b[36m      push_item=true,\u001b[39m\n",
       "\u001b[36m      callbacks=SearchGraphCallbacks(verbose=index.verbose),\u001b[39m\n",
       "\u001b[36m      pools=getpools(index)\u001b[39m\n",
       "\u001b[36m  )\u001b[39m\n",
       "\n",
       "  Appends an object into the index. It accepts the same arguments that \u001b[36mpush!\u001b[39m\n",
       "  but assuming some default values.\n",
       "\n",
       "  Arguments:\n",
       "\n",
       "    •  \u001b[36mindex\u001b[39m: The search graph index where the insertion"
      ]
     },
     "metadata": {},
     "output_type": "display_data"
    },
    {
     "name": "stdout",
     "output_type": "stream",
     "text": [
      "\n",
      "\n",
      "\n"
     ]
    },
    {
     "data": {
      "text/markdown": [
       "## index! – category: typeof(index!) – score: 54.3f0\n"
      ],
      "text/plain": [
       "\u001b[1m  index! – category: typeof(index!) – score: 54.3f0\u001b[22m\n",
       "\u001b[1m  ===================================================\u001b[22m"
      ]
     },
     "metadata": {},
     "output_type": "display_data"
    },
    {
     "data": {
      "text/latex": [
       "\\begin{verbatim}\n",
       "index!(index::SearchGraph; parallel_block=get_parallel_block(), parallel_minimum_first_block=parallel_block, callbacks=SearchGraphCallbacks(verbose=index.verbose))\n",
       "\\end{verbatim}\n",
       "Indexes the already initialized database (e.g., given in the constructor method). It can be made in parallel or sequentially. The arguments are the same than \\texttt{append!} function but using the internal \\texttt{index.db} as input.\n",
       "\n",
       "\\begin{verbatim}\n",
       "index!(idx::KnrIndex; parallel_block=get_parallel_block(length(idx.db)), pools=nothing, verbose=true)\n",
       "\\end{verbatim}\n",
       "Indexe\n",
       "\n"
      ],
      "text/markdown": [
       "```\n",
       "index!(index::SearchGraph; parallel_block=get_parallel_block(), parallel_minimum_first_block=parallel_block, callbacks=SearchGraphCallbacks(verbose=index.verbose))\n",
       "```\n",
       "\n",
       "Indexes the already initialized database (e.g., given in the constructor method). It can be made in parallel or sequentially. The arguments are the same than `append!` function but using the internal `index.db` as input.\n",
       "\n",
       "```\n",
       "index!(idx::KnrIndex; parallel_block=get_parallel_block(length(idx.db)), pools=nothing, verbose=true)\n",
       "```\n",
       "\n",
       "Indexe\n"
      ],
      "text/plain": [
       "\u001b[36m  index!(index::SearchGraph; parallel_block=get_parallel_block(), parallel_minimum_first_block=parallel_block, callbacks=SearchGraphCallbacks(verbose=index.verbose))\u001b[39m\n",
       "\n",
       "  Indexes the already initialized database (e.g., given in the constructor\n",
       "  method). It can be made in parallel or sequentially. The arguments are the\n",
       "  same than \u001b[36mappend!\u001b[39m function but using the internal \u001b[36mindex.db\u001b[39m as input.\n",
       "\n",
       "\u001b[36m  index!(idx::KnrIndex; parallel_block=get_parallel_block(length(idx.db)), pools=nothing, verbose=true)\u001b[39m\n",
       "\n",
       "  Indexe"
      ]
     },
     "metadata": {},
     "output_type": "display_data"
    },
    {
     "name": "stdout",
     "output_type": "stream",
     "text": [
      "\n",
      "\n",
      "\n"
     ]
    }
   ],
   "source": [
    "search_doc(X, \"append or insert items into the index\"; k=3, snippet=512)"
   ]
  },
  {
   "cell_type": "code",
   "execution_count": null,
   "id": "e311d60e-f23c-428a-a590-ab188c7c595c",
   "metadata": {},
   "outputs": [],
   "source": [
    "k = 5\n",
    "qtext = \"fix and debug type inference issues\""
   ]
  },
  {
   "cell_type": "code",
   "execution_count": null,
   "id": "1fdcdd10-4906-4f7f-895a-8572acdd0d38",
   "metadata": {},
   "outputs": [],
   "source": [
    "display(md\"## search on pkg's name (query: $qtext)\")\n",
    "\n",
    "for p in search_packages(P.D, P.nameidx, qtext, k)\n",
    "    println(json(p, 1))\n",
    "end"
   ]
  },
  {
   "cell_type": "code",
   "execution_count": null,
   "id": "ce8c7692-d769-4978-9ee1-12855ff12553",
   "metadata": {},
   "outputs": [],
   "source": [
    "\n",
    "display(md\"## search on pkg's descriptions (query: $qtext)\")\n",
    "for p in search_packages(P.D, P.descidx, qtext, k)\n",
    "    println(json(p, 1))\n",
    "end"
   ]
  },
  {
   "cell_type": "code",
   "execution_count": null,
   "id": "a37439ef-32d9-4609-bd48-9d154c5be9ec",
   "metadata": {},
   "outputs": [],
   "source": [
    "display(md\"## search on pkg's readme files (query: $qtext)\")\n",
    "for p in search_packages(P.D, P.readmeidx, qtext, 15)\n",
    "    println(json(p, 1))\n",
    "end"
   ]
  }
 ],
 "metadata": {
  "@webio": {
   "lastCommId": "c0facf71-296b-4764-8510-ea5df0c191f8",
   "lastKernelId": "e71e5dbb-95a6-4b9d-9137-d8ceb338b4b6"
  },
  "kernelspec": {
   "display_name": "Julia 1.9.0",
   "language": "julia",
   "name": "julia-1.9"
  },
  "language_info": {
   "file_extension": ".jl",
   "mimetype": "application/julia",
   "name": "julia",
   "version": "1.9.0"
  }
 },
 "nbformat": 4,
 "nbformat_minor": 5
}
