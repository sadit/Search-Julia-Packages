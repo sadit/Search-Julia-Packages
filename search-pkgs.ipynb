{
 "cells": [
  {
   "cell_type": "code",
   "execution_count": 1,
   "id": "adb3bbb8-1657-483a-b0ff-3dda050f419f",
   "metadata": {},
   "outputs": [
    {
     "name": "stderr",
     "output_type": "stream",
     "text": [
      "\u001b[32m\u001b[1m  Activating\u001b[22m\u001b[39m project at `~/Tools/Search-Julia-Packages`\n"
     ]
    }
   ],
   "source": [
    "using Pkg\n",
    "Pkg.activate(\".\")\n"
   ]
  },
  {
   "cell_type": "markdown",
   "id": "292c8023-601c-4eb2-9606-5615b2d67952",
   "metadata": {},
   "source": [
    "# Finding packages"
   ]
  },
  {
   "cell_type": "code",
   "execution_count": 18,
   "id": "2f6205f1-376f-4c5c-b2a1-23ccb13670cc",
   "metadata": {},
   "outputs": [
    {
     "data": {
      "text/plain": [
       "search_pkgs"
      ]
     },
     "execution_count": 18,
     "metadata": {},
     "output_type": "execute_result"
    }
   ],
   "source": [
    "include(\"src/packages.jl\")"
   ]
  },
  {
   "cell_type": "markdown",
   "id": "5de44772-8103-495c-a3fa-0493345dafac",
   "metadata": {},
   "source": [
    "## Loading the register dataframe\n",
    "\n",
    "### Creates a database and index it"
   ]
  },
  {
   "cell_type": "code",
   "execution_count": 16,
   "id": "35d2020d-1a2b-421d-9705-d52cdfd63c82",
   "metadata": {},
   "outputs": [
    {
     "data": {
      "text/plain": [
       "((:pkgs, :nameidx, :readmeidx), [\"name\", \"uuid\", \"repo\", \"subdir\", \"version\", \"fetched\", \"statusmeta\", \"description\", \"topics\", \"readme\", \"stars\"])"
      ]
     },
     "execution_count": 16,
     "metadata": {},
     "output_type": "execute_result"
    }
   ],
   "source": [
    "X = load_or_create_indexes(load_meta_dataframe(\"General-packages-1.csv.gz\"))\n",
    "fieldnames(typeof(X)), names(X.pkgs)"
   ]
  },
  {
   "cell_type": "markdown",
   "id": "c7a16b2b-469b-496f-93fb-83d5d7c64364",
   "metadata": {},
   "source": [
    "## Search the module"
   ]
  },
  {
   "cell_type": "code",
   "execution_count": 30,
   "id": "9c9e5554-1458-4dbe-8c2a-d4edf285eb56",
   "metadata": {},
   "outputs": [
    {
     "name": "stdout",
     "output_type": "stream",
     "text": [
      "[\n",
      "  {\n",
      "    \"stars\": 27,\n",
      "    \"name\": \"SimilaritySearch\",\n",
      "    \"score\": 234.88,\n",
      "    \"id\": 5278,\n",
      "    \"topics\": \"search-engine;information-retrieval;julia;similarity-search;metric-search\",\n",
      "    \"url\": \"https://github.com/sadit/SimilaritySearch.jl\",\n",
      "    \"description\": \"A nearest neighbor search library with exact and approximate algorithms - GitHub - sadit/SimilaritySearch.jl: A nearest neighbor search library with exact and approximate algorithms\"\n",
      "  },\n",
      "  {\n",
      "    \"stars\": 37,\n",
      "    \"name\": \"NearestNeighborDescent\",\n",
      "    \"score\": 202.43,\n",
      "    \"id\": 660,\n",
      "    \"topics\": \"machine-learning;distance;nearest-neighbors;approximate-nearest-neighbor-search;julialang;knn-graphs;knn-algorithm;nndescent\",\n",
      "    \"url\": \"https://github.com/dillondaudert/NearestNeighborDescent.jl\",\n",
      "    \"description\": \"Efficient approximate k-nearest neighbors graph construction and search in Julia - GitHub - dillondaudert/NearestNeighborDescent.jl: Efficient approximate k-nearest neighbors graph construction and search in Julia\"\n",
      "  },\n",
      "  {\n",
      "    \"stars\": 353,\n",
      "    \"name\": \"NearestNeighbors\",\n",
      "    \"score\": 196.51,\n",
      "    \"id\": 9021,\n",
      "    \"topics\": \"datastructures;knn-search;nearest-neighbors;range-search\",\n",
      "    \"url\": \"https://github.com/KristofferC/NearestNeighbors.jl\",\n",
      "    \"description\": \"High performance nearest neighbor data structures and algorithms for Julia. - GitHub - KristofferC/NearestNeighbors.jl: High performance nearest neighbor data structures and algorithms for Julia.\"\n",
      "  }\n",
      "]\n",
      "\n"
     ]
    }
   ],
   "source": [
    "res = search_pkgs(X, \"similarity search nearest neighbor search\"; k=3)\n",
    "JSON.json(res, 2) |> println"
   ]
  },
  {
   "cell_type": "markdown",
   "id": "335b07c3-201f-4a9b-a4a2-16868136cf66",
   "metadata": {},
   "source": [
    "## Other queries with different weights"
   ]
  },
  {
   "cell_type": "code",
   "execution_count": 33,
   "id": "cc9d5d08-0942-45c6-862e-e7de60ab7072",
   "metadata": {},
   "outputs": [
    {
     "name": "stdout",
     "output_type": "stream",
     "text": [
      "[\n",
      "  {\n",
      "    \"stars\": 65,\n",
      "    \"name\": \"DeepQLearning\",\n",
      "    \"score\": 972.36,\n",
      "    \"id\": 2260,\n",
      "    \"topics\": \"machine-learning;reinforcement-learning;deep-reinforcement-learning;pomdps\",\n",
      "    \"url\": \"https://github.com/JuliaPOMDP/DeepQLearning.jl\",\n",
      "    \"description\": \"Implementation of the Deep Q-learning algorithm to solve MDPs - GitHub - JuliaPOMDP/DeepQLearning.jl: Implementation of the Deep Q-learning algorithm to solve MDPs\"\n",
      "  },\n",
      "  {\n",
      "    \"stars\": 9,\n",
      "    \"name\": \"LearningHorse\",\n",
      "    \"score\": 658.58,\n",
      "    \"id\": 1583,\n",
      "    \"topics\": \"machine-learning;julia\",\n",
      "    \"url\": \"https://github.com/QGMW22/LearningHorse.jl\",\n",
      "    \"description\": \"LearningHorse.jl is the ML library for JuliaLang. Contribute to MommaWatasu/LearningHorse.jl development by creating an account on GitHub.\"\n",
      "  },\n",
      "  {\n",
      "    \"stars\": 4,\n",
      "    \"name\": \"GeoLearning\",\n",
      "    \"score\": 640.94,\n",
      "    \"id\": 2643,\n",
      "    \"topics\": \"machine-learning;statistical-learning;geostatistics;geostatistical-learning\",\n",
      "    \"url\": \"https://github.com/juliohm/GeoLearning.jl\",\n",
      "    \"description\": \"Geostatistical learning solvers for the GeoStats.jl framework - GitHub - juliohm/GeoLearning.jl: Geostatistical learning solvers for the GeoStats.jl framework\"\n",
      "  }\n",
      "]\n",
      "\n"
     ]
    }
   ],
   "source": [
    "res = search_pkgs(X, \"deep learning\"; k=3, wname=10f0)  \n",
    "JSON.json(res, 2) |> println"
   ]
  },
  {
   "cell_type": "markdown",
   "id": "7a1a96bf-ed00-4148-a01d-f55f1020a8d1",
   "metadata": {},
   "source": [
    "## more about readme content"
   ]
  },
  {
   "cell_type": "code",
   "execution_count": 35,
   "id": "0a207937-e47d-493f-9d2f-23dad69813ae",
   "metadata": {},
   "outputs": [
    {
     "name": "stdout",
     "output_type": "stream",
     "text": [
      "[\n",
      "  {\n",
      "    \"stars\": 559,\n",
      "    \"name\": \"FastAI\",\n",
      "    \"score\": 945.43,\n",
      "    \"id\": 1777,\n",
      "    \"topics\": \"deep-learning;julia;fastai\",\n",
      "    \"url\": \"https://github.com/FluxML/FastAI.jl\",\n",
      "    \"description\": \"Repository of best practices for deep learning in Julia, inspired by fastai - GitHub - FluxML/FastAI.jl: Repository of best practices for deep learning in Julia, inspired by fastai\"\n",
      "  },\n",
      "  {\n",
      "    \"stars\": 37,\n",
      "    \"name\": \"DataAugmentation\",\n",
      "    \"score\": 944.73,\n",
      "    \"id\": 9274,\n",
      "    \"topics\": \"\",\n",
      "    \"url\": \"https://github.com/lorenzoh/DataAugmentation.jl\",\n",
      "    \"description\": \"Flexible data augmentation library for machine and deep learning - GitHub - FluxML/DataAugmentation.jl: Flexible data augmentation library for machine and deep learning\"\n",
      "  },\n",
      "  {\n",
      "    \"stars\": 330,\n",
      "    \"name\": \"GeometricFlux\",\n",
      "    \"score\": 944.53,\n",
      "    \"id\": 4648,\n",
      "    \"topics\": \"flux;machine-learning;deep-learning;geometric-deep-learning;graph-neural-networks;juliagraphs\",\n",
      "    \"url\": \"https://github.com/FluxML/GeometricFlux.jl\",\n",
      "    \"description\": \"Geometric Deep Learning for Flux. Contribute to FluxML/GeometricFlux.jl development by creating an account on GitHub.\"\n",
      "  }\n",
      "]\n",
      "\n"
     ]
    }
   ],
   "source": [
    "res = search_pkgs(X, \"deep learning\"; k=3, wreadme=10f0)\n",
    "JSON.json(res, 2) |> println"
   ]
  },
  {
   "cell_type": "markdown",
   "id": "888e0721-294c-4d60-aae3-c58cdd8708cc",
   "metadata": {},
   "source": []
  },
  {
   "cell_type": "code",
   "execution_count": null,
   "id": "e311d60e-f23c-428a-a590-ab188c7c595c",
   "metadata": {},
   "outputs": [],
   "source": []
  },
  {
   "cell_type": "code",
   "execution_count": null,
   "id": "1fdcdd10-4906-4f7f-895a-8572acdd0d38",
   "metadata": {},
   "outputs": [],
   "source": []
  },
  {
   "cell_type": "code",
   "execution_count": null,
   "id": "ce8c7692-d769-4978-9ee1-12855ff12553",
   "metadata": {},
   "outputs": [],
   "source": []
  },
  {
   "cell_type": "code",
   "execution_count": null,
   "id": "a37439ef-32d9-4609-bd48-9d154c5be9ec",
   "metadata": {},
   "outputs": [],
   "source": []
  }
 ],
 "metadata": {
  "@webio": {
   "lastCommId": "c0facf71-296b-4764-8510-ea5df0c191f8",
   "lastKernelId": "e71e5dbb-95a6-4b9d-9137-d8ceb338b4b6"
  },
  "kernelspec": {
   "display_name": "Julia 1.9.0",
   "language": "julia",
   "name": "julia-1.9"
  },
  "language_info": {
   "file_extension": ".jl",
   "mimetype": "application/julia",
   "name": "julia",
   "version": "1.9.0"
  }
 },
 "nbformat": 4,
 "nbformat_minor": 5
}
