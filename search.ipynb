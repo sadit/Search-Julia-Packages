{
 "cells": [
  {
   "cell_type": "code",
   "execution_count": 1,
   "id": "adb3bbb8-1657-483a-b0ff-3dda050f419f",
   "metadata": {},
   "outputs": [
    {
     "name": "stderr",
     "output_type": "stream",
     "text": [
      "\u001b[32m\u001b[1m  Activating\u001b[22m\u001b[39m project at `~/Tools/Search-Julia-Packages`\n"
     ]
    }
   ],
   "source": [
    "using Pkg\n",
    "Pkg.activate(\".\")\n",
    "\n",
    "using SimilaritySearch, SimSearchManifoldLearning, TextSearch, InvertedFiles,\n",
    "    CodecZlib, JSON, JLD2, LinearAlgebra, StatsBase, Statistics, DataFrames\n",
    "\n",
    "using Downloads: download"
   ]
  },
  {
   "cell_type": "code",
   "execution_count": null,
   "id": "2f830eed-b53f-4e0a-88fa-33b835bfd1a3",
   "metadata": {},
   "outputs": [],
   "source": []
  },
  {
   "cell_type": "code",
   "execution_count": 2,
   "id": "2f6205f1-376f-4c5c-b2a1-23ccb13670cc",
   "metadata": {},
   "outputs": [
    {
     "data": {
      "text/plain": [
       "load_or_create_indexes (generic function with 1 method)"
      ]
     },
     "execution_count": 2,
     "metadata": {},
     "output_type": "execute_result"
    }
   ],
   "source": [
    "include(\"src/create-indexes.jl\")"
   ]
  },
  {
   "cell_type": "code",
   "execution_count": 3,
   "id": "cc9d5d08-0942-45c6-862e-e7de60ab7072",
   "metadata": {},
   "outputs": [
    {
     "name": "stdout",
     "output_type": "stream",
     "text": [
      "size(P.D) = (8944, 7)\n"
     ]
    },
    {
     "data": {
      "text/html": [
       "<div><div style = \"float: left;\"><span>3×4 DataFrame</span></div><div style = \"clear: both;\"></div></div><div class = \"data-frame\" style = \"overflow-x: scroll;\"><table class = \"data-frame\" style = \"margin-bottom: 6px;\"><thead><tr class = \"header\"><th class = \"rowNumber\" style = \"font-weight: bold; text-align: right;\">Row</th><th style = \"text-align: left;\">name</th><th style = \"text-align: left;\">url</th><th style = \"text-align: left;\">description</th><th style = \"text-align: left;\">topics</th></tr><tr class = \"subheader headerLastRow\"><th class = \"rowNumber\" style = \"font-weight: bold; text-align: right;\"></th><th title = \"String\" style = \"text-align: left;\">String</th><th title = \"String\" style = \"text-align: left;\">String</th><th title = \"String\" style = \"text-align: left;\">String</th><th title = \"String\" style = \"text-align: left;\">String</th></tr></thead><tbody><tr><td class = \"rowNumber\" style = \"font-weight: bold; text-align: right;\">1</td><td style = \"text-align: left;\">AAindex</td><td style = \"text-align: left;\">https://github.com/jowch/AAindex.jl</td><td style = \"text-align: left;\">A package to read AAindex database files.</td><td style = \"text-align: left;\"></td></tr><tr><td class = \"rowNumber\" style = \"font-weight: bold; text-align: right;\">2</td><td style = \"text-align: left;\">ABBAj</td><td style = \"text-align: left;\">https://github.com/nla-group/ABBAj.jl</td><td style = \"text-align: left;\">A Julia version of ABBA with parallel k-means implementation</td><td style = \"text-align: left;\">data-mining julia timeseries</td></tr><tr><td class = \"rowNumber\" style = \"font-weight: bold; text-align: right;\">3</td><td style = \"text-align: left;\">ABC_jll</td><td style = \"text-align: left;\">https://github.com/JuliaBinaryWrappers/ABC_jll.jl</td><td style = \"text-align: left;\"></td><td style = \"text-align: left;\"></td></tr></tbody></table></div>"
      ],
      "text/latex": [
       "\\begin{tabular}{r|cccc}\n",
       "\t& name & url & description & \\\\\n",
       "\t\\hline\n",
       "\t& String & String & String & \\\\\n",
       "\t\\hline\n",
       "\t1 & AAindex & https://github.com/jowch/AAindex.jl & A package to read AAindex database files. & $\\dots$ \\\\\n",
       "\t2 & ABBAj & https://github.com/nla-group/ABBAj.jl & A Julia version of ABBA with parallel k-means implementation & $\\dots$ \\\\\n",
       "\t3 & ABC\\_jll & https://github.com/JuliaBinaryWrappers/ABC\\_jll.jl &  & $\\dots$ \\\\\n",
       "\\end{tabular}\n"
      ],
      "text/plain": [
       "\u001b[1m3×4 DataFrame\u001b[0m\n",
       "\u001b[1m Row \u001b[0m│\u001b[1m name    \u001b[0m\u001b[1m url                               \u001b[0m\u001b[1m description                \u001b[0m ⋯\n",
       "     │\u001b[90m String  \u001b[0m\u001b[90m String                            \u001b[0m\u001b[90m String                     \u001b[0m ⋯\n",
       "─────┼──────────────────────────────────────────────────────────────────────────\n",
       "   1 │ AAindex  https://github.com/jowch/AAindex…  A package to read AAindex d ⋯\n",
       "   2 │ ABBAj    https://github.com/nla-group/ABB…  A Julia version of ABBA wit\n",
       "   3 │ ABC_jll  https://github.com/JuliaBinaryWr…\n",
       "\u001b[36m                                                               2 columns omitted\u001b[0m"
      ]
     },
     "execution_count": 3,
     "metadata": {},
     "output_type": "execute_result"
    }
   ],
   "source": [
    "P = load_or_create_indexes()\n",
    "@show size(P.D)\n",
    "first(P.D, 3)[:, 1:4]"
   ]
  },
  {
   "cell_type": "code",
   "execution_count": 18,
   "id": "e311d60e-f23c-428a-a590-ab188c7c595c",
   "metadata": {},
   "outputs": [
    {
     "data": {
      "text/plain": [
       "\"fix and debug type inference issues\""
      ]
     },
     "execution_count": 18,
     "metadata": {},
     "output_type": "execute_result"
    }
   ],
   "source": [
    "k = 5\n",
    "qtext = \"fix and debug type inference issues\""
   ]
  },
  {
   "cell_type": "code",
   "execution_count": 19,
   "id": "1fdcdd10-4906-4f7f-895a-8572acdd0d38",
   "metadata": {},
   "outputs": [
    {
     "data": {
      "text/latex": [
       "\\subsection{search on pkg's name (query: fix and debug type inference issues)}\n"
      ],
      "text/markdown": [
       "## search on pkg's name (query: fix and debug type inference issues)\n"
      ],
      "text/plain": [
       "\u001b[1m  search on pkg's name (query: fix and debug type inference issues)\u001b[22m\n",
       "\u001b[1m  ===================================================================\u001b[22m"
      ]
     },
     "metadata": {},
     "output_type": "display_data"
    },
    {
     "name": "stdout",
     "output_type": "stream",
     "text": [
      "{\n",
      " \"name\": \"IncrementalInference\",\n",
      " \"topics\": \"bayes bayes-network bayes-tree belief-propagation caesar chapman-kolmogorov factor-graphs filtering-algorithm inference isam julia-language multi-hypothesis multi-modal nonparametric optimization parametric robotics slam state-estimation sum-product\",\n",
      " \"bm25-score\": 73.9,\n",
      " \"description\": \"Clique recycling non-Gaussian (multi-modal) factor graph solver; also see Caesar.jl.\",\n",
      " \"url\": \"https://github.com/JuliaRobotics/IncrementalInference.jl\",\n",
      " \"gh-stars\": 70\n",
      "}\n",
      "\n",
      "{\n",
      " \"name\": \"MuseInference\",\n",
      " \"topics\": \"bayesian julia\",\n",
      " \"bm25-score\": 73.1,\n",
      " \"description\": \"Fast approximate high-dimensional hierarchical Bayesian inference\",\n",
      " \"url\": \"https://github.com/marius311/MuseInference.jl\",\n",
      " \"gh-stars\": 21\n",
      "}\n",
      "\n",
      "{\n",
      " \"name\": \"BaytesInference\",\n",
      " \"topics\": \"\",\n",
      " \"bm25-score\": 70.9,\n",
      " \"description\": \"Plotting and inference utilities for Baytes.jl output.\",\n",
      " \"url\": \"https://github.com/paschermayr/BaytesInference.jl\",\n",
      " \"gh-stars\": 1\n",
      "}\n",
      "\n",
      "{\n",
      " \"name\": \"CausalInference\",\n",
      " \"topics\": \"causal-inference julia\",\n",
      " \"bm25-score\": 70.9,\n",
      " \"description\": \"Causal inference, graphical models and structure learning with the PC algorithm.\",\n",
      " \"url\": \"https://github.com/mschauer/CausalInference.jl\",\n",
      " \"gh-stars\": 134\n",
      "}\n",
      "\n",
      "{\n",
      " \"name\": \"NetworkInference\",\n",
      " \"topics\": \"\",\n",
      " \"bm25-score\": 69.9,\n",
      " \"description\": \"Methods for inferring undirected networks from data\",\n",
      " \"url\": \"https://github.com/Tchanders/NetworkInference.jl\",\n",
      " \"gh-stars\": 40\n",
      "}\n",
      "\n"
     ]
    }
   ],
   "source": [
    "display(md\"## search on pkg's name (query: $qtext)\")\n",
    "\n",
    "for p in search_packages(P.D, P.nameidx, qtext, k)\n",
    "    println(json(p, 1))\n",
    "end"
   ]
  },
  {
   "cell_type": "code",
   "execution_count": 20,
   "id": "ce8c7692-d769-4978-9ee1-12855ff12553",
   "metadata": {},
   "outputs": [
    {
     "data": {
      "text/latex": [
       "\\subsection{search on pkg's descriptions (query: fix and debug type inference issues)}\n"
      ],
      "text/markdown": [
       "## search on pkg's descriptions (query: fix and debug type inference issues)\n"
      ],
      "text/plain": [
       "\u001b[1m  search on pkg's descriptions (query: fix and debug type inference\u001b[22m\n",
       "\u001b[1m issues)\u001b[22m\n",
       "\u001b[1m  ==========================\u001b[22m"
      ]
     },
     "metadata": {},
     "output_type": "display_data"
    },
    {
     "name": "stdout",
     "output_type": "stream",
     "text": [
      "{\n",
      " \"name\": \"IsDef\",\n",
      " \"topics\": \"julia julialang type-inference\",\n",
      " \"bm25-score\": 146.86,\n",
      " \"description\": \"maintainable type inference\",\n",
      " \"url\": \"https://github.com/jolin-io/IsDef.jl\",\n",
      " \"gh-stars\": 13\n",
      "}\n",
      "\n",
      "{\n",
      " \"name\": \"GaussianVariationalInference\",\n",
      " \"topics\": \"bayesian-inference bayesian-methods julia-language machine-learning posterior-distributions variational-inference\",\n",
      " \"bm25-score\": 102.1,\n",
      " \"description\": \"Approximate variational inference in Julia\",\n",
      " \"url\": \"https://github.com/ngiann/GaussianVariationalInference.jl\",\n",
      " \"gh-stars\": 3\n",
      "}\n",
      "\n",
      "{\n",
      " \"name\": \"GaussianVariationalInference\",\n",
      " \"topics\": \"bayesian-inference bayesian-methods julia-language machine-learning posterior-distributions variational-inference\",\n",
      " \"bm25-score\": 102.1,\n",
      " \"description\": \"Approximate variational inference in Julia\",\n",
      " \"url\": \"https://github.com/ngiann/GaussianVariationalInference.jl\",\n",
      " \"gh-stars\": 3\n",
      "}\n",
      "\n",
      "{\n",
      " \"name\": \"PhyloModels\",\n",
      " \"topics\": \"julia nucleotide-substitution-models phylogenetic-trees\",\n",
      " \"bm25-score\": 101.62,\n",
      " \"description\": \"Phylogenetic simulation and inference in Julia\",\n",
      " \"url\": \"https://github.com/jangevaare/PhyloModels.jl\",\n",
      " \"gh-stars\": 4\n",
      "}\n",
      "\n",
      "{\n",
      " \"name\": \"WhittleLikelihoodInference\",\n",
      " \"topics\": \"\",\n",
      " \"bm25-score\": 101.19,\n",
      " \"description\": \"A Julia package for Whittle and debiased Whittle likelihood inference.\",\n",
      " \"url\": \"https://github.com/JakeGrainger/WhittleLikelihoodInference.jl\",\n",
      " \"gh-stars\": 2\n",
      "}\n",
      "\n"
     ]
    }
   ],
   "source": [
    "\n",
    "display(md\"## search on pkg's descriptions (query: $qtext)\")\n",
    "for p in search_packages(P.D, P.descidx, qtext, k)\n",
    "    println(json(p, 1))\n",
    "end"
   ]
  },
  {
   "cell_type": "code",
   "execution_count": 21,
   "id": "a37439ef-32d9-4609-bd48-9d154c5be9ec",
   "metadata": {},
   "outputs": [
    {
     "data": {
      "text/latex": [
       "\\subsection{search on pkg's readme files (query: fix and debug type inference issues)}\n"
      ],
      "text/markdown": [
       "## search on pkg's readme files (query: fix and debug type inference issues)\n"
      ],
      "text/plain": [
       "\u001b[1m  search on pkg's readme files (query: fix and debug type inference\u001b[22m\n",
       "\u001b[1m issues)\u001b[22m\n",
       "\u001b[1m  ==========================\u001b[22m"
      ]
     },
     "metadata": {},
     "output_type": "display_data"
    },
    {
     "name": "stdout",
     "output_type": "stream",
     "text": [
      "{\n",
      " \"name\": \"Cthulhu\",\n",
      " \"topics\": \"\",\n",
      " \"bm25-score\": 35.09,\n",
      " \"description\": \"The slow descent into madness\",\n",
      " \"url\": \"https://github.com/JuliaDebug/Cthulhu.jl\",\n",
      " \"gh-stars\": 452\n",
      "}\n",
      "\n",
      "{\n",
      " \"name\": \"Cthulhu\",\n",
      " \"topics\": \"\",\n",
      " \"bm25-score\": 35.09,\n",
      " \"description\": \"The slow descent into madness\",\n",
      " \"url\": \"https://github.com/JuliaDebug/Cthulhu.jl\",\n",
      " \"gh-stars\": 452\n",
      "}\n",
      "\n",
      "{\n",
      " \"name\": \"RegressionAndOtherStories\",\n",
      " \"topics\": \"\",\n",
      " \"bm25-score\": 24.49,\n",
      " \"description\": \"Data and functions to support Julia projects based on the book \\\"Regression and Other Stories\\\" by Andrew Gelman, Jennifer Hill and Aki Vehtari.\",\n",
      " \"url\": \"https://github.com/RegressionAndOtherStoriesJulia/RegressionAndOtherStories.jl\",\n",
      " \"gh-stars\": 14\n",
      "}\n",
      "\n",
      "{\n",
      " \"name\": \"ProfileView\",\n",
      " \"topics\": \"\",\n",
      " \"bm25-score\": 22.66,\n",
      " \"description\": \"Visualization of Julia profiling data\",\n",
      " \"url\": \"https://github.com/timholy/ProfileView.jl\",\n",
      " \"gh-stars\": 302\n",
      "}\n",
      "\n",
      "{\n",
      " \"name\": \"Tapestree\",\n",
      " \"topics\": \"\",\n",
      " \"bm25-score\": 22.05,\n",
      " \"description\": \"\",\n",
      " \"url\": \"https://github.com/ignacioq/Tapestree.jl\",\n",
      " \"gh-stars\": 9\n",
      "}\n",
      "\n",
      "{\n",
      " \"name\": \"DanceWebpack\",\n",
      " \"topics\": \"api apps dance framework frontend julia web webpack\",\n",
      " \"bm25-score\": 21.76,\n",
      " \"description\": \"Webpack plugin for DanceJL\",\n",
      " \"url\": \"https://github.com/DanceJL/DanceWebpack.jl\",\n",
      " \"gh-stars\": 0\n",
      "}\n",
      "\n",
      "{\n",
      " \"name\": \"LoggingFacilities\",\n",
      " \"topics\": \"\",\n",
      " \"bm25-score\": 21.22,\n",
      " \"description\": \"Life is beautiful when your application log looks nice!\",\n",
      " \"url\": \"https://github.com/tk3369/LoggingFacilities.jl\",\n",
      " \"gh-stars\": 7\n",
      "}\n",
      "\n",
      "{\n",
      " \"name\": \"PointProcessInference\",\n",
      " \"topics\": \"\",\n",
      " \"bm25-score\": 19.72,\n",
      " \"description\": \"Statistical inference for Poisson Processes\",\n",
      " \"url\": \"https://github.com/mschauer/PointProcessInference.jl\",\n",
      " \"gh-stars\": 7\n",
      "}\n",
      "\n",
      "{\n",
      " \"name\": \"FuzzyLogic\",\n",
      " \"topics\": \"fuzzy fuzzy-inference-system fuzzy-logic julia mamdani sugeno\",\n",
      " \"bm25-score\": 19.72,\n",
      " \"description\": \"Julia package for fuzzy inference\",\n",
      " \"url\": \"https://github.com/lucaferranti/FuzzyLogic.jl\",\n",
      " \"gh-stars\": 7\n",
      "}\n",
      "\n",
      "{\n",
      " \"name\": \"MinAtar\",\n",
      " \"topics\": \"\",\n",
      " \"bm25-score\": 19.48,\n",
      " \"description\": \"Minifying Atari in Julia\",\n",
      " \"url\": \"https://github.com/mkschleg/MinAtar.jl\",\n",
      " \"gh-stars\": 1\n",
      "}\n",
      "\n",
      "{\n",
      " \"name\": \"ResumableFunctions\",\n",
      " \"topics\": \"finite-state-machine iterator julia semi-coroutine stackless\",\n",
      " \"bm25-score\": 19.44,\n",
      " \"description\": \"C# style generators a.k.a. semi-coroutines for Julia.\",\n",
      " \"url\": \"https://github.com/BenLauwens/ResumableFunctions.jl\",\n",
      " \"gh-stars\": 140\n",
      "}\n",
      "\n",
      "{\n",
      " \"name\": \"MathML\",\n",
      " \"topics\": \"\",\n",
      " \"bm25-score\": 18.95,\n",
      " \"description\": \"Julia MathML parser\",\n",
      " \"url\": \"https://github.com/SciML/MathML.jl\",\n",
      " \"gh-stars\": 21\n",
      "}\n",
      "\n",
      "{\n",
      " \"name\": \"WhereTraits\",\n",
      " \"topics\": \"dispatch inheritance julia traits\",\n",
      " \"bm25-score\": 18.9,\n",
      " \"description\": \"traits for julia: dispatch on whatever you want using where syntax\",\n",
      " \"url\": \"https://github.com/jolin-io/WhereTraits.jl\",\n",
      " \"gh-stars\": 69\n",
      "}\n",
      "\n",
      "{\n",
      " \"name\": \"WGPUCompute\",\n",
      " \"topics\": \"\",\n",
      " \"bm25-score\": 18.7,\n",
      " \"description\": \"Array interface for WGPU\",\n",
      " \"url\": \"https://github.com/JuliaWGPU/WGPUCompute.jl\",\n",
      " \"gh-stars\": 1\n",
      "}\n",
      "\n",
      "{\n",
      " \"name\": \"IncrementalInference\",\n",
      " \"topics\": \"bayes bayes-network bayes-tree belief-propagation caesar chapman-kolmogorov factor-graphs filtering-algorithm inference isam julia-language multi-hypothesis multi-modal nonparametric optimization parametric robotics slam state-estimation sum-product\",\n",
      " \"bm25-score\": 18.49,\n",
      " \"description\": \"Clique recycling non-Gaussian (multi-modal) factor graph solver; also see Caesar.jl.\",\n",
      " \"url\": \"https://github.com/JuliaRobotics/IncrementalInference.jl\",\n",
      " \"gh-stars\": 70\n",
      "}\n",
      "\n"
     ]
    }
   ],
   "source": [
    "display(md\"## search on pkg's readme files (query: $qtext)\")\n",
    "for p in search_packages(P.D, P.readmeidx, qtext, 15)\n",
    "    println(json(p, 1))\n",
    "end"
   ]
  }
 ],
 "metadata": {
  "@webio": {
   "lastCommId": "c0facf71-296b-4764-8510-ea5df0c191f8",
   "lastKernelId": "e71e5dbb-95a6-4b9d-9137-d8ceb338b4b6"
  },
  "kernelspec": {
   "display_name": "Julia 1.9.0",
   "language": "julia",
   "name": "julia-1.9"
  },
  "language_info": {
   "file_extension": ".jl",
   "mimetype": "application/julia",
   "name": "julia",
   "version": "1.9.0"
  }
 },
 "nbformat": 4,
 "nbformat_minor": 5
}
